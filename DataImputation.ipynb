{
  "nbformat": 4,
  "nbformat_minor": 0,
  "metadata": {
    "colab": {
      "name": "DataImputation.ipynb",
      "provenance": [],
      "collapsed_sections": [],
      "authorship_tag": "ABX9TyNb9BDEwk8Ids+EuvN25Whf",
      "include_colab_link": true
    },
    "kernelspec": {
      "name": "python3",
      "display_name": "Python 3"
    },
    "language_info": {
      "name": "python"
    }
  },
  "cells": [
    {
      "cell_type": "markdown",
      "metadata": {
        "id": "view-in-github",
        "colab_type": "text"
      },
      "source": [
        "<a href=\"https://colab.research.google.com/github/pleelapr/data-imputation-hsu/blob/main/DataImputation.ipynb\" target=\"_parent\"><img src=\"https://colab.research.google.com/assets/colab-badge.svg\" alt=\"Open In Colab\"/></a>"
      ]
    },
    {
      "cell_type": "code",
      "source": [
        "!pip install impyute"
      ],
      "metadata": {
        "colab": {
          "base_uri": "https://localhost:8080/"
        },
        "id": "r4qcP4cOICfo",
        "outputId": "5acc28f9-438e-4b15-fc6a-1b9a6abe0efb"
      },
      "execution_count": 1,
      "outputs": [
        {
          "output_type": "stream",
          "name": "stdout",
          "text": [
            "Looking in indexes: https://pypi.org/simple, https://us-python.pkg.dev/colab-wheels/public/simple/\n",
            "Collecting impyute\n",
            "  Downloading impyute-0.0.8-py2.py3-none-any.whl (31 kB)\n",
            "Requirement already satisfied: scikit-learn in /usr/local/lib/python3.7/dist-packages (from impyute) (1.0.2)\n",
            "Requirement already satisfied: numpy in /usr/local/lib/python3.7/dist-packages (from impyute) (1.21.6)\n",
            "Requirement already satisfied: scipy in /usr/local/lib/python3.7/dist-packages (from impyute) (1.7.3)\n",
            "Requirement already satisfied: threadpoolctl>=2.0.0 in /usr/local/lib/python3.7/dist-packages (from scikit-learn->impyute) (3.1.0)\n",
            "Requirement already satisfied: joblib>=0.11 in /usr/local/lib/python3.7/dist-packages (from scikit-learn->impyute) (1.1.0)\n",
            "Installing collected packages: impyute\n",
            "Successfully installed impyute-0.0.8\n"
          ]
        }
      ]
    },
    {
      "cell_type": "code",
      "execution_count": 42,
      "metadata": {
        "id": "ZoGoQHYbHiky",
        "colab": {
          "base_uri": "https://localhost:8080/"
        },
        "outputId": "2c337cc7-ceaf-49e2-ef8e-dc2b9f5687d5"
      },
      "outputs": [
        {
          "output_type": "stream",
          "name": "stdout",
          "text": [
            "Mounted at drive\n"
          ]
        }
      ],
      "source": [
        "import pandas as pd\n",
        "from impyute.imputation.cs import fast_knn\n",
        "from sklearn import datasets\n",
        "from sklearn.ensemble import RandomForestRegressor\n",
        "\n",
        "# To use the experimental IterativeImputer, we need to explicitly ask for it:\n",
        "from sklearn.experimental import enable_iterative_imputer  # noqa\n",
        "from sklearn.impute import SimpleImputer, KNNImputer, IterativeImputer\n",
        "from sklearn.model_selection import cross_val_score\n",
        "from sklearn.pipeline import make_pipeline\n",
        "\n",
        "import numpy as np\n",
        "\n",
        "from google.colab import drive\n",
        "drive.mount('drive')"
      ]
    },
    {
      "cell_type": "code",
      "source": [
        "rng = np.random.RandomState(42)\n",
        "\n",
        "def add_missing_values(df, missing_rate = 0.5):\n",
        "    n_samples = len(df)\n",
        "    n_features = len(df.columns) - 1\n",
        "\n",
        "    n_missing_samples = int(n_samples * missing_rate)\n",
        "\n",
        "    missing_samples = np.zeros(n_samples, dtype=bool)\n",
        "    missing_samples[:n_missing_samples] = True\n",
        "\n",
        "    rng.shuffle(missing_samples)\n",
        "    missing_features = rng.randint(0, n_features, n_missing_samples)\n",
        "    temp = df.copy().to_numpy()\n",
        "    temp[missing_samples, missing_features] = np.nan\n",
        "    df_new = pd.DataFrame(temp, columns = df.columns.values)\n",
        "    return df_new"
      ],
      "metadata": {
        "id": "aE_WyouTMBHm"
      },
      "execution_count": 3,
      "outputs": []
    },
    {
      "cell_type": "code",
      "source": [
        "N_SPLITS = 4\n",
        "regressor = RandomForestRegressor(random_state=0)\n",
        "\n",
        "def get_scores_for_imputer(imputer, X_missing, y_missing):\n",
        "    estimator = make_pipeline(imputer, regressor)\n",
        "    impute_scores = cross_val_score(\n",
        "        estimator, X_missing, y_missing, scoring=\"neg_mean_squared_error\", cv=N_SPLITS\n",
        "    )\n",
        "    return impute_scores\n",
        "\n",
        "def get_full_score(X_full, y_full):\n",
        "    full_scores = cross_val_score(\n",
        "        regressor, X_full, y_full, scoring=\"neg_mean_squared_error\", cv=N_SPLITS\n",
        "    )\n",
        "    return full_scores.mean(), full_scores.std()\n",
        "\n",
        "def get_impute_zero_score(X_missing, y_missing):\n",
        "    imputer = SimpleImputer(\n",
        "        missing_values=np.nan, add_indicator=True, strategy=\"constant\", fill_value=0\n",
        "    )\n",
        "    zero_impute_scores = get_scores_for_imputer(imputer, X_missing, y_missing)\n",
        "    return zero_impute_scores.mean(), zero_impute_scores.std()\n",
        "\n",
        "def get_impute_knn_score(X_missing, y_missing):\n",
        "    imputer = KNNImputer(missing_values=np.nan, add_indicator=True)\n",
        "    knn_impute_scores = get_scores_for_imputer(imputer, X_missing, y_missing)\n",
        "    return knn_impute_scores.mean(), knn_impute_scores.std()\n",
        "\n",
        "def get_impute_mean(X_missing, y_missing):\n",
        "    imputer = SimpleImputer(missing_values=np.nan, strategy=\"mean\", add_indicator=True)\n",
        "    mean_impute_scores = get_scores_for_imputer(imputer, X_missing, y_missing)\n",
        "    return mean_impute_scores.mean(), mean_impute_scores.std()\n",
        "\n",
        "def get_impute_iterative(X_missing, y_missing):\n",
        "    imputer = IterativeImputer(\n",
        "        missing_values=np.nan,\n",
        "        add_indicator=True,\n",
        "        random_state=0,\n",
        "        n_nearest_features=3,\n",
        "        max_iter=1,\n",
        "        sample_posterior=True,\n",
        "    )\n",
        "    iterative_impute_scores = get_scores_for_imputer(imputer, X_missing, y_missing)\n",
        "    return iterative_impute_scores.mean(), iterative_impute_scores.std()"
      ],
      "metadata": {
        "id": "B25LU8ocauT3"
      },
      "execution_count": 4,
      "outputs": []
    },
    {
      "cell_type": "code",
      "source": [
        "raw_data = datasets.fetch_california_housing()\n",
        "print(raw_data.DESCR)\n",
        "df_full = pd.DataFrame(raw_data.data, columns=raw_data.feature_names)\n",
        "df_full['target'] = raw_data.target"
      ],
      "metadata": {
        "colab": {
          "base_uri": "https://localhost:8080/"
        },
        "id": "gC1UgLLYH_YL",
        "outputId": "374257da-ffb9-4fe8-8b48-3994eb277b13"
      },
      "execution_count": 5,
      "outputs": [
        {
          "output_type": "stream",
          "name": "stdout",
          "text": [
            ".. _california_housing_dataset:\n",
            "\n",
            "California Housing dataset\n",
            "--------------------------\n",
            "\n",
            "**Data Set Characteristics:**\n",
            "\n",
            "    :Number of Instances: 20640\n",
            "\n",
            "    :Number of Attributes: 8 numeric, predictive attributes and the target\n",
            "\n",
            "    :Attribute Information:\n",
            "        - MedInc        median income in block group\n",
            "        - HouseAge      median house age in block group\n",
            "        - AveRooms      average number of rooms per household\n",
            "        - AveBedrms     average number of bedrooms per household\n",
            "        - Population    block group population\n",
            "        - AveOccup      average number of household members\n",
            "        - Latitude      block group latitude\n",
            "        - Longitude     block group longitude\n",
            "\n",
            "    :Missing Attribute Values: None\n",
            "\n",
            "This dataset was obtained from the StatLib repository.\n",
            "https://www.dcc.fc.up.pt/~ltorgo/Regression/cal_housing.html\n",
            "\n",
            "The target variable is the median house value for California districts,\n",
            "expressed in hundreds of thousands of dollars ($100,000).\n",
            "\n",
            "This dataset was derived from the 1990 U.S. census, using one row per census\n",
            "block group. A block group is the smallest geographical unit for which the U.S.\n",
            "Census Bureau publishes sample data (a block group typically has a population\n",
            "of 600 to 3,000 people).\n",
            "\n",
            "An household is a group of people residing within a home. Since the average\n",
            "number of rooms and bedrooms in this dataset are provided per household, these\n",
            "columns may take surpinsingly large values for block groups with few households\n",
            "and many empty houses, such as vacation resorts.\n",
            "\n",
            "It can be downloaded/loaded using the\n",
            ":func:`sklearn.datasets.fetch_california_housing` function.\n",
            "\n",
            ".. topic:: References\n",
            "\n",
            "    - Pace, R. Kelley and Ronald Barry, Sparse Spatial Autoregressions,\n",
            "      Statistics and Probability Letters, 33 (1997) 291-297\n",
            "\n"
          ]
        }
      ]
    },
    {
      "cell_type": "code",
      "source": [
        "missing_data_percentage = [0.1, 0.25, 0.5, 0.75]\n",
        "\n",
        "df_list = []\n",
        "\n",
        "for per in missing_data_percentage:\n",
        "  df_list.append(add_missing_values(df_full, missing_rate=per))\n",
        "\n",
        "print(df_list[0].info(show_counts=True))\n",
        "print(df_list[0].isna().sum())"
      ],
      "metadata": {
        "colab": {
          "base_uri": "https://localhost:8080/"
        },
        "id": "oVWmDwa7NCfD",
        "outputId": "11671119-b707-4f05-8c52-5550237092f8"
      },
      "execution_count": 6,
      "outputs": [
        {
          "output_type": "stream",
          "name": "stdout",
          "text": [
            "<class 'pandas.core.frame.DataFrame'>\n",
            "RangeIndex: 20640 entries, 0 to 20639\n",
            "Data columns (total 9 columns):\n",
            " #   Column      Non-Null Count  Dtype  \n",
            "---  ------      --------------  -----  \n",
            " 0   MedInc      20354 non-null  float64\n",
            " 1   HouseAge    20371 non-null  float64\n",
            " 2   AveRooms    20391 non-null  float64\n",
            " 3   AveBedrms   20386 non-null  float64\n",
            " 4   Population  20401 non-null  float64\n",
            " 5   AveOccup    20381 non-null  float64\n",
            " 6   Latitude    20390 non-null  float64\n",
            " 7   Longitude   20382 non-null  float64\n",
            " 8   target      20640 non-null  float64\n",
            "dtypes: float64(9)\n",
            "memory usage: 1.4 MB\n",
            "None\n",
            "MedInc        286\n",
            "HouseAge      269\n",
            "AveRooms      249\n",
            "AveBedrms     254\n",
            "Population    239\n",
            "AveOccup      259\n",
            "Latitude      250\n",
            "Longitude     258\n",
            "target          0\n",
            "dtype: int64\n"
          ]
        }
      ]
    },
    {
      "cell_type": "code",
      "source": [
        "df_list[0].isna().sum().reset_index(name=\"n\").plot.bar(x='index', y='n', rot=45)"
      ],
      "metadata": {
        "colab": {
          "base_uri": "https://localhost:8080/",
          "height": 337
        },
        "id": "fd4oApuIY5jp",
        "outputId": "83c5b436-ab3a-43c1-978c-e9c9426972f1"
      },
      "execution_count": 7,
      "outputs": [
        {
          "output_type": "execute_result",
          "data": {
            "text/plain": [
              "<matplotlib.axes._subplots.AxesSubplot at 0x7f9cb0bf4690>"
            ]
          },
          "metadata": {},
          "execution_count": 7
        },
        {
          "output_type": "display_data",
          "data": {
            "text/plain": [
              "<Figure size 432x288 with 1 Axes>"
            ],
            "image/png": "[encoded data removed]"
          },
          "metadata": {
            "needs_background": "light"
          }
        }
      ]
    },
    {
      "cell_type": "code",
      "source": [
        "def result_matrix(list_df_with_missing_value):\n",
        "  x_labels = []\n",
        "  missing_rates = []\n",
        "  mses = np.zeros(1 + (len(list_df_with_missing_value) * 4))\n",
        "  stds = np.zeros(1 + (len(list_df_with_missing_value) * 4))\n",
        "\n",
        "  x = df_full.loc[:, df_full.columns != 'target'].values\n",
        "  y = df_full['target'].values\n",
        "\n",
        "  mses[0], stds[0] = get_full_score(x, y)\n",
        "  x_labels.append(\"Full data\")\n",
        "  missing_rates.append(\"0%\")\n",
        "\n",
        "  count = 1\n",
        "  for idx, df in enumerate(list_df_with_missing_value):\n",
        "    missing_x = df.loc[:, df.columns != 'target'].values\n",
        "    missing_y = df['target'].values\n",
        "\n",
        "    mses[count], stds[count] = get_impute_zero_score(missing_x, missing_y)\n",
        "    x_labels.append(f\"Zero imputation\")\n",
        "    missing_rates.append(f\"{missing_data_percentage[idx]*100}%\")\n",
        "    count += 1\n",
        "\n",
        "    mses[count], stds[count] = get_impute_knn_score(missing_x, missing_y)\n",
        "    x_labels.append(f\"KNN Imputation\")\n",
        "    missing_rates.append(f\"{missing_data_percentage[idx]*100}%\")\n",
        "    count += 1\n",
        "\n",
        "    mses[count], stds[count] = get_impute_mean(missing_x, missing_y)\n",
        "    x_labels.append(f\"Mean Imputation\")\n",
        "    missing_rates.append(f\"{missing_data_percentage[idx]*100}%\")\n",
        "    count += 1\n",
        "\n",
        "    mses[count], stds[count] = get_impute_iterative(missing_x, missing_y)\n",
        "    x_labels.append(f\"Iterative Imputation\")\n",
        "    missing_rates.append(f\"{missing_data_percentage[idx]*100}%\")\n",
        "    count += 1\n",
        "\n",
        "  mses = mses * -1\n",
        "\n",
        "  return x_labels, missing_rates, mses, stds"
      ],
      "metadata": {
        "id": "1Sv4ZKvWaW_2"
      },
      "execution_count": 20,
      "outputs": []
    },
    {
      "cell_type": "code",
      "source": [
        "import matplotlib.pyplot as plt\n",
        "\n",
        "def plot(x_labels, mses_diabetes, stds_diabetes, title_suffix=\"\"):\n",
        "  n_bars = len(mses_diabetes)\n",
        "  xval = np.arange(n_bars)\n",
        "\n",
        "  # plot diabetes results\n",
        "  plt.figure(figsize=(12, 6))\n",
        "  ax1 = plt.subplot(121)\n",
        "  for j in xval:\n",
        "      ax1.barh(\n",
        "          j,\n",
        "          mses_diabetes[j],\n",
        "          xerr=stds_diabetes[j],\n",
        "          alpha=0.6,\n",
        "          align=\"center\",\n",
        "      )\n",
        "  if title_suffix == \"\":\n",
        "    ax1.set_title(f\"Imputation Techniques\")\n",
        "  else:\n",
        "    ax1.set_title(f\"Imputation Techniques : {title_suffix}\")\n",
        "  ax1.set_xlim(left=np.min(mses_diabetes) * 0.9, right=np.max(mses_diabetes) * 1.1)\n",
        "  ax1.set_yticks(xval)\n",
        "  ax1.set_xlabel(\"MSE\")\n",
        "  ax1.invert_yaxis()\n",
        "  ax1.set_yticklabels(x_labels)\n",
        "\n",
        "  plt.show()"
      ],
      "metadata": {
        "id": "aZXonaTwkgbR"
      },
      "execution_count": 40,
      "outputs": []
    },
    {
      "cell_type": "code",
      "source": [
        "result = result_matrix(df_list)"
      ],
      "metadata": {
        "id": "tXRK3ZJ-rKqy"
      },
      "execution_count": 21,
      "outputs": []
    },
    {
      "cell_type": "code",
      "source": [
        "df_result = pd.DataFrame({\n",
        "    'Method': result[0],\n",
        "    'MissingRate': result[1],\n",
        "    'MSE': result[2],\n",
        "    'STD': result[3]\n",
        "})\n",
        "df_result_sorted = df_result.sort_values(by=['MSE']).reset_index(drop=True)\n",
        "df_result_sorted.to_csv('data.csv')\n",
        "print(df_result_sorted)"
      ],
      "metadata": {
        "colab": {
          "base_uri": "https://localhost:8080/"
        },
        "id": "5OJfFyfPTIF9",
        "outputId": "f2838df8-62a3-4017-a0ce-0a071ec7b8ca"
      },
      "execution_count": 43,
      "outputs": [
        {
          "output_type": "stream",
          "name": "stdout",
          "text": [
            "                  Method MissingRate       MSE       STD\n",
            "0              Full data          0%  0.449117  0.096993\n",
            "1         KNN Imputation       10.0%  0.456493  0.086663\n",
            "2        Mean Imputation       10.0%  0.461676  0.088798\n",
            "3         KNN Imputation       25.0%  0.471449  0.081778\n",
            "4   Iterative Imputation       10.0%  0.474267  0.093785\n",
            "5        Mean Imputation       25.0%  0.490390  0.094469\n",
            "6        Zero imputation       10.0%  0.506902  0.095332\n",
            "7         KNN Imputation       50.0%  0.509174  0.097872\n",
            "8   Iterative Imputation       25.0%  0.517630  0.090707\n",
            "9         KNN Imputation       75.0%  0.525631  0.104719\n",
            "10       Mean Imputation       50.0%  0.536914  0.103594\n",
            "11       Zero imputation       25.0%  0.539435  0.107077\n",
            "12       Zero imputation       50.0%  0.539486  0.113868\n",
            "13       Zero imputation       75.0%  0.540279  0.111688\n",
            "14       Mean Imputation       75.0%  0.546973  0.105663\n",
            "15  Iterative Imputation       50.0%  0.555950  0.096016\n",
            "16  Iterative Imputation       75.0%  0.579986  0.113892\n"
          ]
        }
      ]
    },
    {
      "cell_type": "code",
      "source": [
        "plot([\"{} : {}\".format(b_, a_) for a_, b_ in zip(df_result_sorted['Method'], df_result_sorted['MissingRate'])], df_result_sorted['MSE'], df_result_sorted['STD'])"
      ],
      "metadata": {
        "colab": {
          "base_uri": "https://localhost:8080/",
          "height": 404
        },
        "id": "lsAgbvaYdYeH",
        "outputId": "d3bc3c99-b204-470c-ec32-101220f10107"
      },
      "execution_count": 26,
      "outputs": [
        {
          "output_type": "display_data",
          "data": {
            "text/plain": [
              "<Figure size 864x432 with 1 Axes>"
            ],
            "image/png": "[encoded data removed]"
          },
          "metadata": {
            "needs_background": "light"
          }
        }
      ]
    },
    {
      "cell_type": "code",
      "source": [
        "percentage_list = df_result_sorted['MissingRate'].unique()\n",
        "for per in percentage_list:\n",
        "  if per == '0%':\n",
        "    continue\n",
        "  temp = df_result_sorted.loc[(df_result_sorted['MissingRate'] == per) | (df_result_sorted['MissingRate'] == '0%')].reset_index(drop=True)\n",
        "  # print(temp)\n",
        "  plot(temp['Method'], temp['MSE'], temp['STD'], per)"
      ],
      "metadata": {
        "colab": {
          "base_uri": "https://localhost:8080/",
          "height": 1000
        },
        "id": "tRVAKJ2xeIqP",
        "outputId": "a45381d7-4eac-4f88-fe9e-893c7a289d72"
      },
      "execution_count": 41,
      "outputs": [
        {
          "output_type": "display_data",
          "data": {
            "text/plain": [
              "<Figure size 864x432 with 1 Axes>"
            ],
            "image/png": "[encoded data removed]"
          },
          "metadata": {
            "needs_background": "light"
          }
        },
        {
          "output_type": "display_data",
          "data": {
            "text/plain": [
              "<Figure size 864x432 with 1 Axes>"
            ],
            "image/png": "[encoded data removed]"
          },
          "metadata": {
            "needs_background": "light"
          }
        },
        {
          "output_type": "display_data",
          "data": {
            "text/plain": [
              "<Figure size 864x432 with 1 Axes>"
            ],
            "image/png": "[encoded data removed]"
          },
          "metadata": {
            "needs_background": "light"
          }
        },
        {
          "output_type": "display_data",
          "data": {
            "text/plain": [
              "<Figure size 864x432 with 1 Axes>"
            ],
            "image/png": "[encoded data removed]"
          },
          "metadata": {
            "needs_background": "light"
          }
        }
      ]
    }
  ]
}